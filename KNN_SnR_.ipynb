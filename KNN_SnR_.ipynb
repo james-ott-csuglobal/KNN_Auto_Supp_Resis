{
  "nbformat": 4,
  "nbformat_minor": 0,
  "metadata": {
    "colab": {
      "name": "KNN_SnR_.ipynb",
      "provenance": [],
      "collapsed_sections": [],
      "authorship_tag": "ABX9TyPq80xHAdFCVoijiuzVakdB",
      "include_colab_link": true
    },
    "kernelspec": {
      "name": "python3",
      "display_name": "Python 3"
    }
  },
  "cells": [
    {
      "cell_type": "markdown",
      "metadata": {
        "id": "view-in-github",
        "colab_type": "text"
      },
      "source": [
        "<a href=\"https://colab.research.google.com/github/james-ott-csuglobal/KNN_Auto_Supp_Resis/blob/main/KNN_SnR_.ipynb\" target=\"_parent\"><img src=\"https://colab.research.google.com/assets/colab-badge.svg\" alt=\"Open In Colab\"/></a>"
      ]
    },
    {
      "cell_type": "code",
      "metadata": {
        "colab": {
          "base_uri": "https://localhost:8080/"
        },
        "id": "oCSHdlfJstiX",
        "outputId": "809875ac-2294-4bc9-abf5-83502abfaf81"
      },
      "source": [
        "!pip install yfinance\r\n",
        "!pip install mpl_finance"
      ],
      "execution_count": 2,
      "outputs": [
        {
          "output_type": "stream",
          "text": [
            "Collecting yfinance\n",
            "  Downloading https://files.pythonhosted.org/packages/7a/e8/b9d7104d3a4bf39924799067592d9e59119fcfc900a425a12e80a3123ec8/yfinance-0.1.55.tar.gz\n",
            "Requirement already satisfied: pandas>=0.24 in /usr/local/lib/python3.6/dist-packages (from yfinance) (1.1.5)\n",
            "Requirement already satisfied: numpy>=1.15 in /usr/local/lib/python3.6/dist-packages (from yfinance) (1.19.4)\n",
            "Requirement already satisfied: requests>=2.20 in /usr/local/lib/python3.6/dist-packages (from yfinance) (2.23.0)\n",
            "Requirement already satisfied: multitasking>=0.0.7 in /usr/local/lib/python3.6/dist-packages (from yfinance) (0.0.9)\n",
            "Collecting lxml>=4.5.1\n",
            "\u001b[?25l  Downloading https://files.pythonhosted.org/packages/bd/78/56a7c88a57d0d14945472535d0df9fb4bbad7d34ede658ec7961635c790e/lxml-4.6.2-cp36-cp36m-manylinux1_x86_64.whl (5.5MB)\n",
            "\u001b[K     |████████████████████████████████| 5.5MB 7.0MB/s \n",
            "\u001b[?25hRequirement already satisfied: pytz>=2017.2 in /usr/local/lib/python3.6/dist-packages (from pandas>=0.24->yfinance) (2018.9)\n",
            "Requirement already satisfied: python-dateutil>=2.7.3 in /usr/local/lib/python3.6/dist-packages (from pandas>=0.24->yfinance) (2.8.1)\n",
            "Requirement already satisfied: certifi>=2017.4.17 in /usr/local/lib/python3.6/dist-packages (from requests>=2.20->yfinance) (2020.12.5)\n",
            "Requirement already satisfied: idna<3,>=2.5 in /usr/local/lib/python3.6/dist-packages (from requests>=2.20->yfinance) (2.10)\n",
            "Requirement already satisfied: urllib3!=1.25.0,!=1.25.1,<1.26,>=1.21.1 in /usr/local/lib/python3.6/dist-packages (from requests>=2.20->yfinance) (1.24.3)\n",
            "Requirement already satisfied: chardet<4,>=3.0.2 in /usr/local/lib/python3.6/dist-packages (from requests>=2.20->yfinance) (3.0.4)\n",
            "Requirement already satisfied: six>=1.5 in /usr/local/lib/python3.6/dist-packages (from python-dateutil>=2.7.3->pandas>=0.24->yfinance) (1.15.0)\n",
            "Building wheels for collected packages: yfinance\n",
            "  Building wheel for yfinance (setup.py) ... \u001b[?25l\u001b[?25hdone\n",
            "  Created wheel for yfinance: filename=yfinance-0.1.55-py2.py3-none-any.whl size=22616 sha256=33e3d8fbeccdefa481f6afbbc6fce3cb014ecd4e5f4da126b652a068b0615213\n",
            "  Stored in directory: /root/.cache/pip/wheels/04/98/cc/2702a4242d60bdc14f48b4557c427ded1fe92aedf257d4565c\n",
            "Successfully built yfinance\n",
            "Installing collected packages: lxml, yfinance\n",
            "  Found existing installation: lxml 4.2.6\n",
            "    Uninstalling lxml-4.2.6:\n",
            "      Successfully uninstalled lxml-4.2.6\n",
            "Successfully installed lxml-4.6.2 yfinance-0.1.55\n",
            "Collecting mpl_finance\n",
            "  Downloading https://files.pythonhosted.org/packages/9d/de/8169ea4403d6cb8322e74cc48b6834d1dfbed81931d17f1f26b2140160d8/mpl_finance-0.10.1-py3-none-any.whl\n",
            "Requirement already satisfied: matplotlib in /usr/local/lib/python3.6/dist-packages (from mpl_finance) (3.2.2)\n",
            "Requirement already satisfied: kiwisolver>=1.0.1 in /usr/local/lib/python3.6/dist-packages (from matplotlib->mpl_finance) (1.3.1)\n",
            "Requirement already satisfied: cycler>=0.10 in /usr/local/lib/python3.6/dist-packages (from matplotlib->mpl_finance) (0.10.0)\n",
            "Requirement already satisfied: numpy>=1.11 in /usr/local/lib/python3.6/dist-packages (from matplotlib->mpl_finance) (1.19.4)\n",
            "Requirement already satisfied: python-dateutil>=2.1 in /usr/local/lib/python3.6/dist-packages (from matplotlib->mpl_finance) (2.8.1)\n",
            "Requirement already satisfied: pyparsing!=2.0.4,!=2.1.2,!=2.1.6,>=2.0.1 in /usr/local/lib/python3.6/dist-packages (from matplotlib->mpl_finance) (2.4.7)\n",
            "Requirement already satisfied: six in /usr/local/lib/python3.6/dist-packages (from cycler>=0.10->matplotlib->mpl_finance) (1.15.0)\n",
            "Installing collected packages: mpl-finance\n",
            "Successfully installed mpl-finance-0.10.1\n"
          ],
          "name": "stdout"
        }
      ]
    },
    {
      "cell_type": "code",
      "metadata": {
        "id": "WDvtdAeqsmam"
      },
      "source": [
        "import numpy as np\r\n",
        "import yfinance as yf\r\n",
        "from datetime import datetime, date\r\n",
        "import pandas as pd\r\n",
        "import scipy.stats as si\r\n",
        "import matplotlib.pyplot as plt\r\n",
        "from datetime import datetime, date\r\n",
        "from sklearn.cluster import KMeans\r\n",
        "from matplotlib import pyplot as plt\r\n",
        "import matplotlib.ticker as mpticker\r\n",
        "from mpl_finance import candlestick_ohlc\r\n",
        "import matplotlib.dates as mpl_dates\r\n",
        "import time"
      ],
      "execution_count": 24,
      "outputs": []
    },
    {
      "cell_type": "code",
      "metadata": {
        "id": "Zq1kGbsOo5AQ"
      },
      "source": [
        "def load_prices(ticker, period=\"6mo\"):\r\n",
        "    stock = yf.Ticker(ticker)\r\n",
        "    data = stock.history(period=period, interval=\"1d\")\r\n",
        "    first = data['Open'].iloc[0]\r\n",
        "    last = data['Close'].iloc[-1]\r\n",
        "    chg = ((last - first)/first)*100\r\n",
        "    chg = \"{:.2f}\".format(chg)\r\n",
        "    df1 = pd.DataFrame()\r\n",
        "    df1['ticker'] = [ticker]\r\n",
        "    df1['last_price'] = [last]\r\n",
        "    df1['daily_chg'] = [chg]\r\n",
        "    return data\r\n",
        "\r\n",
        "def get_info(ticker):\r\n",
        "  stock = yf.Ticker(ticker)\r\n",
        "  return stock.info\r\n",
        "\r\n",
        "def closing_price(df, colname='Close', place=-1):\r\n",
        "  x = df[colname].iloc[place]\r\n",
        "  return x\r\n",
        "\r\n",
        "\r\n"
      ],
      "execution_count": 25,
      "outputs": []
    },
    {
      "cell_type": "code",
      "metadata": {
        "id": "pmqj-8xzxBzb"
      },
      "source": [
        "def get_optimum_clusters(df, saturation_point=0.05):\r\n",
        "    '''\r\n",
        "    :param df: dataframe\r\n",
        "    :param saturation_point: The amount of difference we are willing to detect\r\n",
        "    :return: clusters with optimum K centers\r\n",
        "    This method uses elbow method to find the optimum number of K clusters\r\n",
        "    We initialize different K-means with 1..10 centers and compare the inertias\r\n",
        "    If the difference is no more than saturation_point, we choose that as K and move on\r\n",
        "    '''\r\n",
        "\r\n",
        "    wcss = []\r\n",
        "    k_models = []\r\n",
        "\r\n",
        "    size = min(15, len(df.index))\r\n",
        "    for i in range(1, size):\r\n",
        "        kmeans = KMeans(n_clusters=i, init='k-means++', max_iter=300, n_init=10, random_state=0)\r\n",
        "        kmeans.fit(df)\r\n",
        "        wcss.append(kmeans.inertia_)\r\n",
        "        k_models.append(kmeans)\r\n",
        "\r\n",
        "    # Compare differences in inertias until it's no more than saturation_point\r\n",
        "    optimum_k = len(wcss)-1\r\n",
        "    for i in range(0, len(wcss)-1):\r\n",
        "        diff = abs(wcss[i+1] - wcss[i])\r\n",
        "        if diff < saturation_point:\r\n",
        "            optimum_k = i\r\n",
        "            break\r\n",
        "\r\n",
        "    print(\"Optimum K is \" + str(optimum_k + 1))\r\n",
        "    optimum_clusters = k_models[optimum_k]\r\n",
        "\r\n",
        "    return optimum_clusters"
      ],
      "execution_count": 26,
      "outputs": []
    },
    {
      "cell_type": "code",
      "metadata": {
        "id": "MNdEZynStHqB"
      },
      "source": [
        "symbol = 'TSLA'"
      ],
      "execution_count": 27,
      "outputs": []
    },
    {
      "cell_type": "code",
      "metadata": {
        "colab": {
          "base_uri": "https://localhost:8080/",
          "height": 142
        },
        "id": "OqKouFtZtH4c",
        "outputId": "8c1e4dcd-21b8-4747-880e-e20f25118172"
      },
      "source": [
        "df_s = load_prices(symbol, \"6mo\")\r\n",
        "\r\n",
        "# df_s = load_prices(symbol, \"1mo\")\r\n",
        "# df_s = load_prices(symbol, \"3mo\")\r\n",
        "# df_s = load_prices(symbol, \"6mo\")\r\n",
        "# df_s = load_prices(symbol, \"1y\")\r\n",
        "\r\n",
        "df_s = df_s.rename_axis('Date').reset_index()\r\n",
        "df_s.tail(3)"
      ],
      "execution_count": 32,
      "outputs": [
        {
          "output_type": "execute_result",
          "data": {
            "text/html": [
              "<div>\n",
              "<style scoped>\n",
              "    .dataframe tbody tr th:only-of-type {\n",
              "        vertical-align: middle;\n",
              "    }\n",
              "\n",
              "    .dataframe tbody tr th {\n",
              "        vertical-align: top;\n",
              "    }\n",
              "\n",
              "    .dataframe thead th {\n",
              "        text-align: right;\n",
              "    }\n",
              "</style>\n",
              "<table border=\"1\" class=\"dataframe\">\n",
              "  <thead>\n",
              "    <tr style=\"text-align: right;\">\n",
              "      <th></th>\n",
              "      <th>Date</th>\n",
              "      <th>Open</th>\n",
              "      <th>High</th>\n",
              "      <th>Low</th>\n",
              "      <th>Close</th>\n",
              "      <th>Volume</th>\n",
              "      <th>Dividends</th>\n",
              "      <th>Stock Splits</th>\n",
              "    </tr>\n",
              "  </thead>\n",
              "  <tbody>\n",
              "    <tr>\n",
              "      <th>125</th>\n",
              "      <td>2020-12-29</td>\n",
              "      <td>661.00000</td>\n",
              "      <td>669.900024</td>\n",
              "      <td>655.000000</td>\n",
              "      <td>665.989990</td>\n",
              "      <td>22910800</td>\n",
              "      <td>0</td>\n",
              "      <td>0.0</td>\n",
              "    </tr>\n",
              "    <tr>\n",
              "      <th>126</th>\n",
              "      <td>2020-12-30</td>\n",
              "      <td>672.00000</td>\n",
              "      <td>696.599976</td>\n",
              "      <td>668.359985</td>\n",
              "      <td>694.780029</td>\n",
              "      <td>42846000</td>\n",
              "      <td>0</td>\n",
              "      <td>0.0</td>\n",
              "    </tr>\n",
              "    <tr>\n",
              "      <th>127</th>\n",
              "      <td>2020-12-31</td>\n",
              "      <td>699.98999</td>\n",
              "      <td>718.719971</td>\n",
              "      <td>691.119995</td>\n",
              "      <td>705.669983</td>\n",
              "      <td>49570900</td>\n",
              "      <td>0</td>\n",
              "      <td>0.0</td>\n",
              "    </tr>\n",
              "  </tbody>\n",
              "</table>\n",
              "</div>"
            ],
            "text/plain": [
              "          Date       Open        High  ...    Volume  Dividends  Stock Splits\n",
              "125 2020-12-29  661.00000  669.900024  ...  22910800          0           0.0\n",
              "126 2020-12-30  672.00000  696.599976  ...  42846000          0           0.0\n",
              "127 2020-12-31  699.98999  718.719971  ...  49570900          0           0.0\n",
              "\n",
              "[3 rows x 8 columns]"
            ]
          },
          "metadata": {
            "tags": []
          },
          "execution_count": 32
        }
      ]
    },
    {
      "cell_type": "code",
      "metadata": {
        "colab": {
          "base_uri": "https://localhost:8080/",
          "height": 142
        },
        "id": "QtiuMneBtY-v",
        "outputId": "aa230982-b188-4fe6-d22f-e14848595c4b"
      },
      "source": [
        "df_s.head(3)"
      ],
      "execution_count": 33,
      "outputs": [
        {
          "output_type": "execute_result",
          "data": {
            "text/html": [
              "<div>\n",
              "<style scoped>\n",
              "    .dataframe tbody tr th:only-of-type {\n",
              "        vertical-align: middle;\n",
              "    }\n",
              "\n",
              "    .dataframe tbody tr th {\n",
              "        vertical-align: top;\n",
              "    }\n",
              "\n",
              "    .dataframe thead th {\n",
              "        text-align: right;\n",
              "    }\n",
              "</style>\n",
              "<table border=\"1\" class=\"dataframe\">\n",
              "  <thead>\n",
              "    <tr style=\"text-align: right;\">\n",
              "      <th></th>\n",
              "      <th>Date</th>\n",
              "      <th>Open</th>\n",
              "      <th>High</th>\n",
              "      <th>Low</th>\n",
              "      <th>Close</th>\n",
              "      <th>Volume</th>\n",
              "      <th>Dividends</th>\n",
              "      <th>Stock Splits</th>\n",
              "    </tr>\n",
              "  </thead>\n",
              "  <tbody>\n",
              "    <tr>\n",
              "      <th>0</th>\n",
              "      <td>2020-07-01</td>\n",
              "      <td>216.600006</td>\n",
              "      <td>227.065994</td>\n",
              "      <td>216.100006</td>\n",
              "      <td>223.925995</td>\n",
              "      <td>13326900</td>\n",
              "      <td>0</td>\n",
              "      <td>0.0</td>\n",
              "    </tr>\n",
              "    <tr>\n",
              "      <th>1</th>\n",
              "      <td>2020-07-02</td>\n",
              "      <td>244.296005</td>\n",
              "      <td>245.600006</td>\n",
              "      <td>237.119995</td>\n",
              "      <td>241.731995</td>\n",
              "      <td>17250100</td>\n",
              "      <td>0</td>\n",
              "      <td>0.0</td>\n",
              "    </tr>\n",
              "    <tr>\n",
              "      <th>2</th>\n",
              "      <td>2020-07-06</td>\n",
              "      <td>255.337997</td>\n",
              "      <td>275.558014</td>\n",
              "      <td>253.207993</td>\n",
              "      <td>274.316010</td>\n",
              "      <td>102849500</td>\n",
              "      <td>0</td>\n",
              "      <td>0.0</td>\n",
              "    </tr>\n",
              "  </tbody>\n",
              "</table>\n",
              "</div>"
            ],
            "text/plain": [
              "        Date        Open        High  ...     Volume  Dividends  Stock Splits\n",
              "0 2020-07-01  216.600006  227.065994  ...   13326900          0           0.0\n",
              "1 2020-07-02  244.296005  245.600006  ...   17250100          0           0.0\n",
              "2 2020-07-06  255.337997  275.558014  ...  102849500          0           0.0\n",
              "\n",
              "[3 rows x 8 columns]"
            ]
          },
          "metadata": {
            "tags": []
          },
          "execution_count": 33
        }
      ]
    },
    {
      "cell_type": "code",
      "metadata": {
        "colab": {
          "base_uri": "https://localhost:8080/"
        },
        "id": "iwtjraa1taPf",
        "outputId": "7500cec5-9b97-4292-b68c-08b8adb8d6ae"
      },
      "source": [
        "data = df_s\r\n",
        "\r\n",
        "df_s1 = df_s.drop('Date', axis=1)\r\n",
        "\r\n",
        "lows = pd.DataFrame(data=df_s1, index=data.index, columns=[\"Low\"])\r\n",
        "highs = pd.DataFrame(data=df_s1, index=data.index, columns=[\"High\"])\r\n",
        "\r\n",
        "low_clusters = get_optimum_clusters(lows)\r\n",
        "low_centers = low_clusters.cluster_centers_\r\n",
        "low_centers = np.sort(low_centers, axis=0)\r\n",
        "\r\n",
        "high_clusters = get_optimum_clusters(highs)\r\n",
        "high_centers = high_clusters.cluster_centers_\r\n",
        "high_centers = np.sort(high_centers, axis=0)\r\n",
        "\r\n",
        "lowss = []\r\n",
        "highss = []\r\n",
        "finals = []\r\n",
        "\r\n",
        "rounding_factor = 0\r\n",
        "\r\n",
        "for i in low_centers:\r\n",
        "  i = round(float(i),rounding_factor)\r\n",
        "  lowss.append(i)\r\n",
        "\r\n",
        "for i in high_centers:\r\n",
        "  i = round(float(i),rounding_factor)\r\n",
        "  highss.append(i)\r\n",
        "\r\n",
        "print('lows/support: ', lowss)\r\n",
        "print('highs/resistence: ', highss)\r\n",
        "\r\n",
        "##\r\n",
        "if len(lowss) != len(highss):\r\n",
        "  finals = lowss + highss\r\n",
        "else:\r\n",
        "  for i in range(len(lowss)):\r\n",
        "      l1 = lowss[i]\r\n",
        "      h1 = highss[i]\r\n",
        "      if i != (len(lowss) - 1):\r\n",
        "        l2 = lowss[i+1]\r\n",
        "        if ((h1 - l1) < (l2 - l1)):\r\n",
        "          finals.append((h1+l1)/2)\r\n",
        "        else:\r\n",
        "          finals.append(l1)\r\n",
        "      else:\r\n",
        "        finals.append(highss[i])\r\n",
        "\r\n",
        "print('finals/blended:',finals)\r\n"
      ],
      "execution_count": 37,
      "outputs": [
        {
          "output_type": "stream",
          "text": [
            "Optimum K is 14\n",
            "Optimum K is 14\n",
            "lows/support:  [227.0, 269.0, 292.0, 324.0, 370.0, 404.0, 422.0, 438.0, 487.0, 542.0, 581.0, 616.0, 654.0, 691.0]\n",
            "highs/resistence:  [236.0, 285.0, 307.0, 332.0, 374.0, 411.0, 432.0, 456.0, 506.0, 569.0, 600.0, 628.0, 655.0, 698.0]\n",
            "finals/blended: [231.5, 277.0, 299.5, 328.0, 372.0, 407.5, 427.0, 447.0, 496.5, 555.5, 590.5, 622.0, 654.5, 698.0]\n"
          ],
          "name": "stdout"
        }
      ]
    },
    {
      "cell_type": "code",
      "metadata": {
        "colab": {
          "base_uri": "https://localhost:8080/",
          "height": 595
        },
        "id": "PvNefjCEu39g",
        "outputId": "3550238d-19e2-463d-d8c2-803cfea78092"
      },
      "source": [
        "plt.style.use('fast')\r\n",
        "\r\n",
        "# Extracting Data for plotting\r\n",
        "data = df_s\r\n",
        "ohlc = data.loc[:, ['Date', 'Open', 'High', 'Low', 'Close']]\r\n",
        "ohlc['Date'] = pd.to_datetime(ohlc['Date'])\r\n",
        "ohlc['Date'] = ohlc['Date'].apply(mpl_dates.date2num)\r\n",
        "ohlc = ohlc.astype(float)\r\n",
        "\r\n",
        "# Creating Subplots\r\n",
        "fig, ax = plt.subplots(figsize=(15,9))\r\n",
        "\r\n",
        "candlestick_ohlc(ax, ohlc.values, width=0.6, colorup='green', colordown='red', alpha=0.8)\r\n",
        "\r\n",
        "# Setting labels & titles\r\n",
        "ax.set_xlabel('Date')\r\n",
        "ax.set_ylabel('Price')\r\n",
        "fig.suptitle('6mo Daily Candlestick Chart of ' + symbol)\r\n",
        "\r\n",
        "# Formatting Date\r\n",
        "date_format = mpl_dates.DateFormatter('%d-%m-%Y')\r\n",
        "ax.xaxis.set_major_formatter(date_format)\r\n",
        "fig.autofmt_xdate()\r\n",
        "\r\n",
        "# fig.tight_layout()\r\n",
        "\r\n",
        "# plt.show()\r\n",
        "\r\n",
        "\r\n",
        "for low in low_centers[:9]:\r\n",
        "    ax.axhline(low[0], color='blue', ls='--', alpha=.2)\r\n",
        "\r\n",
        "for high in high_centers[-9:]:\r\n",
        "    ax.axhline(high[0], color='red', ls='--', alpha=.1)\r\n",
        "\r\n",
        "for final in finals:\r\n",
        "    ax.axhline(final, color='purple', ls='-',alpha=.5)\r\n",
        "\r\n"
      ],
      "execution_count": 41,
      "outputs": [
        {
          "output_type": "display_data",
          "data": {
            "image/png": "[encoded data removed]",
            "text/plain": [
              "<Figure size 1080x648 with 1 Axes>"
            ]
          },
          "metadata": {
            "tags": [],
            "needs_background": "light"
          }
        }
      ]
    },
    {
      "cell_type": "code",
      "metadata": {
        "id": "ZI1b8qRmv2JH"
      },
      "source": [
        ""
      ],
      "execution_count": null,
      "outputs": []
    }
  ]
}